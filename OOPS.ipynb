{
  "nbformat": 4,
  "nbformat_minor": 0,
  "metadata": {
    "colab": {
      "provenance": [],
      "collapsed_sections": [
        "Ph2EGyJEVKEi"
      ]
    },
    "kernelspec": {
      "name": "python3",
      "display_name": "Python 3"
    },
    "language_info": {
      "name": "python"
    }
  },
  "cells": [
    {
      "cell_type": "markdown",
      "source": [
        "#OOPS"
      ],
      "metadata": {
        "id": "Ph2EGyJEVKEi"
      }
    },
    {
      "cell_type": "markdown",
      "source": [
        "**1. What is Object-Oriented Programming (OOP)?**\n",
        "- Object-Oriented Programming (OOP) is a way of writing and organizing code by grouping related data and functions together into objects. These objects are created using classes, which are like blueprints. OOP helps make code more structured, reusable, and easier to maintain."
      ],
      "metadata": {
        "id": "vj76t0t-Vcvj"
      }
    },
    {
      "cell_type": "markdown",
      "source": [
        "**2. What is a class in OOP?**\n",
        "\n",
        "- A class in Object-Oriented Programming (OOP) is like a blueprint or template for creating objects. It defines what data (called attributes) and actions (called methods) the objects will have, but it doesn't create the actual object itself."
      ],
      "metadata": {
        "id": "Z7GLg_cwVrrJ"
      }
    },
    {
      "cell_type": "markdown",
      "source": [
        "**3. What is an object in OOP?**\n",
        "- An object in Object-Oriented Programming (OOP) is a real thing created from a class. It has its own data (attributes) and can do actions (methods) defined in the class."
      ],
      "metadata": {
        "id": "dERwkkQjV4n5"
      }
    },
    {
      "cell_type": "markdown",
      "source": [
        "**4. What is the difference between abstraction and encapsulation?**\n",
        "- **Abstraction** is the process of hiding complex details and showing only the essential features. It helps you focus on what an object does rather than how it does it. For example, you can use a car by just turning the key, without knowing how the engine works.\n",
        "\n",
        "- **Encapsulation** is the technique of hiding an object's internal data and allowing access only through methods. It protects the data and keeps it safe from unwanted changes. For example, you can't directly change a TV's internal parts, but you can use the remote buttons to control it."
      ],
      "metadata": {
        "id": "mv2fx4HLWCDU"
      }
    },
    {
      "cell_type": "markdown",
      "source": [
        "**5. What are dunder methods in Python?**\n",
        "- Dunder methods in Python (short for \"double underscore\" methods) are special methods that start and end with double underscores, like __init__, __str__, or __len__. Python automatically calls these methods in certain situations — they let you define how your objects should behave with built-in operations."
      ],
      "metadata": {
        "id": "UgWyCu_yWoI6"
      }
    },
    {
      "cell_type": "markdown",
      "source": [
        "**6. Explain the concept of inheritance in OOP.**\n",
        "- Inheritance in Object-Oriented Programming (OOP) is the concept where one class (called the child or subclass) can inherit properties and methods from another class (called the parent or superclass). It helps in code reuse and makes it easy to create new classes based on existing ones."
      ],
      "metadata": {
        "id": "C3GVGSf6XMms"
      }
    },
    {
      "cell_type": "markdown",
      "source": [
        "**7. What is polymorphism in OOP?**\n",
        "- Polymorphism in Object-Oriented Programming (OOP) means one method or function can behave differently depending on the object using it. It allows different classes to define their own version of the same method, even though the method name is the same."
      ],
      "metadata": {
        "id": "LXi2X_O5Za3U"
      }
    },
    {
      "cell_type": "markdown",
      "source": [
        "**8. How is encapsulation achieved in Python?**\n",
        "- Encapsulation in Python is achieved by hiding data using private variables and providing methods to access or change them. This is done using underscores:\n",
        "\n",
        "  > _variable: treated as protected (by convention).\n",
        "\n",
        "  >__variable: treated as private (name mangled).\n",
        "\n"
      ],
      "metadata": {
        "id": "3jwLDFkyZmuR"
      }
    },
    {
      "cell_type": "markdown",
      "source": [
        "**9. What is a constructor in Python?**\n",
        "- A constructor in Python is a special method called __init__() that is automatically called when a new object of a class is created. It is used to initialize the object's attributes with values when the object is created."
      ],
      "metadata": {
        "id": "McbZAFYJZ4nD"
      }
    },
    {
      "cell_type": "markdown",
      "source": [
        "**10. What are class and static methods in Python?**\n",
        "- In Python, class methods and static methods are special types of methods that are different from regular instance methods in terms of how they are used and how they access data.\n",
        "\n",
        "  **Class Method:**\n",
        "  > A class method is bound to the class, not the instance of the class. It takes the class itself as the first argument (conventionally named cls). It is defined using the @classmethod decorator.Used to modify class-level attributes or perform actions related to the class itself.\n",
        "\n",
        "  **Static Method:**\n",
        "  > A static method does not take any reference to the instance or class as the first argument. It is defined using the @staticmethod decorator.It is used when the method doesn't need access to class or instance data but still belongs logically to the class."
      ],
      "metadata": {
        "id": "ExvGVldDaCth"
      }
    },
    {
      "cell_type": "markdown",
      "source": [
        "**11. What is method overloading in Python?**\n",
        "- Method overloading in Python refers to the ability to define multiple methods with the same name but different parameters (different number or type of arguments). However, Python does not support traditional method overloading like other languages (e.g., Java or C++). Instead, Python allows method overloading by default argument values or variable-length arguments."
      ],
      "metadata": {
        "id": "FSvsrY8JapnE"
      }
    },
    {
      "cell_type": "markdown",
      "source": [
        "**12. What is method overriding in OOP?**\n",
        "- Method overriding in Object-Oriented Programming (OOP) occurs when a child class provides a specific implementation of a method that is already defined in its parent class. The method in the child class overrides the method in the parent class, allowing the child class to provide its own behavior.\n",
        "\n",
        "The method in the child class has the same name, same number of parameters, and same method signature as the one in the parent class."
      ],
      "metadata": {
        "id": "6VoccCD3ayjJ"
      }
    },
    {
      "cell_type": "markdown",
      "source": [
        "**13. What is a property decorator in Python?**\n",
        "- The @property decorator in Python is used to define a method as a property. It allows you to access a method like an attribute, without explicitly calling it as a function. This is helpful when you want to perform some computation or validation when getting or setting an attribute, but still want to access it in a simple way."
      ],
      "metadata": {
        "id": "1o0qgm8za7Hl"
      }
    },
    {
      "cell_type": "markdown",
      "source": [
        "**14. Why is polymorphism important in OOP?**\n",
        "- Polymorphism is important in Object-Oriented Programming (OOP) because it allows objects of different classes to be treated as objects of a common superclass. This enables you to write more flexible, reusable, and maintainable code."
      ],
      "metadata": {
        "id": "bV99S0cGbW6H"
      }
    },
    {
      "cell_type": "markdown",
      "source": [
        "**15. What is an abstract class in Python?**\n",
        "- An abstract class in Python is a class that cannot be instantiated directly. It serves as a blueprint for other classes. It allows you to define common methods and enforce that derived classes implement certain methods. Abstract classes are created using the abc module and the ABC class."
      ],
      "metadata": {
        "id": "Bb7sYySkbgEJ"
      }
    },
    {
      "cell_type": "markdown",
      "source": [
        "**16. What are the advantages of OOP?**\n",
        "- The advantages of Object-Oriented Programming (OOP) are significant in terms of organization, reusability, and maintenance of code. Here are the key advantages:\n",
        "\n",
        "  **Modularity:**\n",
        "  > OOP allows you to break down a program into smaller, manageable pieces called objects. Each object can be developed, tested, and updated independently, making the code easier to manage and understand.\n",
        "\n",
        "  **Reusability:**\n",
        "  > With OOP, you can create reusable code. Once a class is written, it can be reused in multiple programs or projects. You can also extend existing classes through inheritance, minimizing the need to rewrite code.\n",
        "\n",
        "  **Maintainability:**\n",
        "  > Because OOP organizes code into objects with well-defined interfaces, it makes the system easier to maintain. Changes made to an object in one part of the program do not necessarily affect other parts, leading to fewer bugs.\n",
        "\n",
        "  **Abstraction:**\n",
        "  > OOP allows you to hide complex implementation details and only expose necessary functionality through abstract classes or interfaces. This simplifies interaction with objects by focusing only on high-level behavior.\n",
        "\n",
        "  **Flexibility with Polymorphism:**\n",
        "  > Polymorphism allows for flexible code where a single method can operate on objects of different types, making your program more adaptable and extensible."
      ],
      "metadata": {
        "id": "d5o29dwjbnXM"
      }
    },
    {
      "cell_type": "markdown",
      "source": [
        "**17. What is the difference between a class variable and an instance variable?**\n",
        "  > A class variable is shared by all instances of a class. It is defined inside the class but outside of any methods, and it holds values that are common to all objects of that class. You access class variables either by using the class name or an instance of the class. If you change the value of a class variable, it will affect all instances of the class because they share the same variable.\n",
        "\n",
        "  > An instance variable, on the other hand, is unique to each instance of a class. It is typically defined inside the __init__() method and is accessed using self. Each instance of the class can have its own copy of the instance variables, meaning they can have different values for each object. Modifying an instance variable only affects the specific instance, not other objects of the same class."
      ],
      "metadata": {
        "id": "MxYUfCnWb_rF"
      }
    },
    {
      "cell_type": "markdown",
      "source": [
        "**18. What is multiple inheritance in Python?**\n",
        "- Multiple inheritance in Python refers to the ability of a class to inherit from more than one base class. This means that a subclass can inherit attributes and methods from multiple parent classes, allowing for greater flexibility and reuse of code.\n",
        "\n",
        "- In Python, when a class inherits from multiple classes, it combines the features of all the parent classes. The subclass can override methods from any of the parent classes and also use the methods and attributes that are not overridden."
      ],
      "metadata": {
        "id": "gzX9eWR3fVBN"
      }
    },
    {
      "cell_type": "markdown",
      "source": [
        "**19. Explain the purpose of _ _str__ and _ _repr _ _ methods in Python.**\n",
        "- In Python, both __str__ and __repr__ are special methods that are used to define how an object is represented as a string when it is printed or displayed. Although they both deal with string representation, they serve slightly different purposes.\n",
        "\n",
        "  __str__ method:\n",
        "The __str__ method is meant to return a human-readable or user-friendly string representation of an object. When you print an object, Python calls the __str__ method to convert the object into a string. This is the string that should be displayed to end-users or for logging purposes.\n",
        "\n",
        "  __repr__ method:\n",
        "The __repr__ method is meant to return a formal string representation of an object, ideally one that could be used to recreate the object (e.g., a valid Python expression). It's used when you call repr() on an object or when you view the object in the interactive interpreter.\n",
        "\n",
        "  If __str__ is not defined, Python will fall back on __repr__.\n"
      ],
      "metadata": {
        "id": "J4yFkybxfg-Z"
      }
    },
    {
      "cell_type": "markdown",
      "source": [
        "**20. What is the significance of the ‘super()’ function in Python?**\n",
        "- The super() function in Python is used to call methods from a parent class (or superclass) in a child class (or subclass). It allows a child class to invoke methods of its parent class, providing a way to extend or modify the functionality of inherited methods without completely overriding them."
      ],
      "metadata": {
        "id": "6RcZGrj9f-O_"
      }
    },
    {
      "cell_type": "markdown",
      "source": [
        "**21. What is the significance of the __del__ method in Python?**\n",
        "- The __del__ method in Python is a special method used for destruction or clean-up of objects. It is called when an object is about to be destroyed or garbage collected by Python. This method allows you to perform any necessary cleanup actions, such as closing files, releasing resources, or disconnecting from a network before the object is removed from memory."
      ],
      "metadata": {
        "id": "tBPWpzNcgHQ-"
      }
    },
    {
      "cell_type": "markdown",
      "source": [
        "**22. What is the difference between @staticmethod and @classmethod in Python?**\n",
        "- The @staticmethod and @classmethod decorators in Python are used to define methods that are not bound to an instance of the class, but they serve different purposes.\n",
        "\n",
        "  A @staticmethod is a method that does not take self or cls as its first argument. It belongs to the class itself but does not have access to any instance or class-specific attributes or methods. It can be called using the class name or an instance, but it only works with the arguments passed to it. Static methods are typically used for utility functions that perform operations unrelated to the state of the instance or class.\n",
        "\n",
        "  On the other hand, a @classmethod takes cls as its first argument, which refers to the class itself, not an instance of the class. This allows the method to access and modify class-level attributes and methods, but it cannot access instance-specific attributes. Class methods are often used for factory methods or operations that modify the class itself rather than individual instances.\n",
        "\n",
        "  For example, in a class, you might have a static method to perform a calculation that doesn't need to interact with the instance or class, while a class method could be used to modify a class-level variable or create instances of the class in a specific way."
      ],
      "metadata": {
        "id": "Iq0mxRaVgQDd"
      }
    },
    {
      "cell_type": "markdown",
      "source": [
        "**23. How does polymorphism work in Python with inheritance?**\n",
        "- Polymorphism in Python, especially with inheritance, allows objects of different classes to be treated as instances of the same class through a common interface. This is possible because of method overriding, where a child class provides a specific implementation of a method that is already defined in its parent class. The core idea is that different classes can define methods with the same name, but each class can provide its own version of that method. When a method is called on an object, Python will automatically call the appropriate method based on the object’s class, even if it’s a method from a parent class."
      ],
      "metadata": {
        "id": "Z9z8cG6OgfD4"
      }
    },
    {
      "cell_type": "markdown",
      "source": [
        "**24. What is method chaining in Python OOP?**\n",
        "- Method chaining in Python is a technique where multiple methods are called on the same object in a single line of code. Each method call returns the object itself (or another object), allowing for a continuous sequence of method calls. This technique helps make the code more concise and readable.\n",
        "\n",
        "  In the context of Object-Oriented Programming (OOP), method chaining is typically achieved by having methods return the instance of the object (self) at the end of each method. This allows subsequent methods to be called on the same object."
      ],
      "metadata": {
        "id": "4GpqEsqzgnr0"
      }
    },
    {
      "cell_type": "markdown",
      "source": [
        "**25. What is the purpose of the _ _call _ _ method in Python?**\n",
        "- The __call__ method in Python allows an instance of a class to be called as if it were a function. By defining the __call__ method in a class, you make its objects callable, which means you can use instances of the class with parentheses and pass arguments, just like you would call a function. This feature can be useful when you want to encapsulate a behavior inside a class but still want to treat it like a function."
      ],
      "metadata": {
        "id": "X9lKYYsygu98"
      }
    },
    {
      "cell_type": "markdown",
      "source": [
        "#Practical"
      ],
      "metadata": {
        "id": "R6T-qHDSVXD2"
      }
    },
    {
      "cell_type": "markdown",
      "source": [
        "**1. Create a parent class Animal with a method speak() that prints a generic message. Create a child class Dog that overrides the speak() method to print \"Bark!\".**"
      ],
      "metadata": {
        "id": "Gqb1KXKZg79E"
      }
    },
    {
      "cell_type": "code",
      "source": [
        "# Parent class\n",
        "class Animal:\n",
        "    def speak(self):\n",
        "        print(\"Some generic animal sound\")\n",
        "\n",
        "# Child class\n",
        "class Dog(Animal):\n",
        "    def speak(self):\n",
        "        print(\"Bark!\")\n",
        "\n",
        "# Creating instances\n",
        "animal = Animal()\n",
        "dog = Dog()\n",
        "\n",
        "# Calling the speak method\n",
        "animal.speak()  # Output: Some generic animal sound\n",
        "dog.speak()     # Output: Bark!\n"
      ],
      "metadata": {
        "colab": {
          "base_uri": "https://localhost:8080/"
        },
        "id": "kK2vdiVxhCbj",
        "outputId": "29ac80b1-0371-4338-95f2-fe53dfcf0971"
      },
      "execution_count": 1,
      "outputs": [
        {
          "output_type": "stream",
          "name": "stdout",
          "text": [
            "Some generic animal sound\n",
            "Bark!\n"
          ]
        }
      ]
    },
    {
      "cell_type": "markdown",
      "source": [
        "**2. Write a program to create an abstract class Shape with a method area(). Derive classes Circle and Rectangle from it and implement the area() method in both.**"
      ],
      "metadata": {
        "id": "1CFKQteOhJYn"
      }
    },
    {
      "cell_type": "code",
      "source": [
        "from abc import ABC, abstractmethod\n",
        "import math\n",
        "\n",
        "# Abstract class Shape\n",
        "class Shape(ABC):\n",
        "    @abstractmethod\n",
        "    def area(self):\n",
        "        pass\n",
        "\n",
        "# Derived class Circle\n",
        "class Circle(Shape):\n",
        "    def __init__(self, radius):\n",
        "        self.radius = radius\n",
        "\n",
        "    def area(self):\n",
        "        return math.pi * self.radius ** 2  # Area of circle = πr^2\n",
        "\n",
        "# Derived class Rectangle\n",
        "class Rectangle(Shape):\n",
        "    def __init__(self, width, height):\n",
        "        self.width = width\n",
        "        self.height = height\n",
        "\n",
        "    def area(self):\n",
        "        return self.width * self.height  # Area of rectangle = width * height\n",
        "\n",
        "# Creating instances of Circle and Rectangle\n",
        "circle = Circle(5)  # Circle with radius 5\n",
        "rectangle = Rectangle(4, 6)  # Rectangle with width 4 and height 6\n",
        "\n",
        "# Calling the area method on both objects\n",
        "print(\"Area of Circle:\", circle.area())  # Output: Area of Circle: 78.53981633974483\n",
        "print(\"Area of Rectangle:\", rectangle.area())  # Output: Area of Rectangle: 24\n"
      ],
      "metadata": {
        "colab": {
          "base_uri": "https://localhost:8080/"
        },
        "id": "RbImDTC4hOkd",
        "outputId": "2b455e75-82a3-4a4f-fb72-b5c7779af5d7"
      },
      "execution_count": 2,
      "outputs": [
        {
          "output_type": "stream",
          "name": "stdout",
          "text": [
            "Area of Circle: 78.53981633974483\n",
            "Area of Rectangle: 24\n"
          ]
        }
      ]
    },
    {
      "cell_type": "markdown",
      "source": [
        "**3. Implement a multi-level inheritance scenario where a class Vehicle has an attribute type. Derive a class Car and further derive a class ElectricCar that adds a battery attribute.**"
      ],
      "metadata": {
        "id": "-A_wTbqRhWQN"
      }
    },
    {
      "cell_type": "code",
      "source": [
        "# Parent class Vehicle\n",
        "class Vehicle:\n",
        "    def __init__(self, type):\n",
        "        self.type = type\n",
        "\n",
        "    def display_type(self):\n",
        "        print(f\"Vehicle Type: {self.type}\")\n",
        "\n",
        "# Derived class Car, inheriting from Vehicle\n",
        "class Car(Vehicle):\n",
        "    def __init__(self, type, brand):\n",
        "        super().__init__(type)  # Call the parent constructor to set the type\n",
        "        self.brand = brand\n",
        "\n",
        "    def display_brand(self):\n",
        "        print(f\"Car Brand: {self.brand}\")\n",
        "\n",
        "# Further derived class ElectricCar, inheriting from Car\n",
        "class ElectricCar(Car):\n",
        "    def __init__(self, type, brand, battery):\n",
        "        super().__init__(type, brand)  # Call the parent constructor to set type and brand\n",
        "        self.battery = battery\n",
        "\n",
        "    def display_battery(self):\n",
        "        print(f\"Battery Capacity: {self.battery} kWh\")\n",
        "\n",
        "# Creating an instance of ElectricCar\n",
        "electric_car = ElectricCar(\"Electric\", \"Tesla\", 75)\n",
        "\n",
        "# Calling methods from all classes\n",
        "electric_car.display_type()     # Vehicle method\n",
        "electric_car.display_brand()    # Car method\n",
        "electric_car.display_battery()  # ElectricCar method\n"
      ],
      "metadata": {
        "colab": {
          "base_uri": "https://localhost:8080/"
        },
        "id": "C1NabnFDhccD",
        "outputId": "d4709d26-4d8b-466d-b4a8-2c5cc1ef75bd"
      },
      "execution_count": 3,
      "outputs": [
        {
          "output_type": "stream",
          "name": "stdout",
          "text": [
            "Vehicle Type: Electric\n",
            "Car Brand: Tesla\n",
            "Battery Capacity: 75 kWh\n"
          ]
        }
      ]
    },
    {
      "cell_type": "markdown",
      "source": [
        "**4. Demonstrate polymorphism by creating a base class Bird with a method fly(). Create two derived classes Sparrow and Penguin that override the fly() method.**"
      ],
      "metadata": {
        "id": "zDzSQoY0hglz"
      }
    },
    {
      "cell_type": "code",
      "source": [
        "# Base class Bird\n",
        "class Bird:\n",
        "    def fly(self):\n",
        "        print(\"This bird flies in the sky.\")\n",
        "\n",
        "# Derived class Sparrow\n",
        "class Sparrow(Bird):\n",
        "    def fly(self):\n",
        "        print(\"Sparrow flies by flapping its wings.\")\n",
        "\n",
        "# Derived class Penguin\n",
        "class Penguin(Bird):\n",
        "    def fly(self):\n",
        "        print(\"Penguins cannot fly. They swim.\")\n",
        "\n",
        "# Creating instances of Sparrow and Penguin\n",
        "sparrow = Sparrow()\n",
        "penguin = Penguin()\n",
        "\n",
        "# Demonstrating polymorphism\n",
        "sparrow.fly()  # Output: Sparrow flies by flapping its wings.\n",
        "penguin.fly()  # Output: Penguins cannot fly. They swim.\n"
      ],
      "metadata": {
        "colab": {
          "base_uri": "https://localhost:8080/"
        },
        "id": "Tf3fy3o_hnSi",
        "outputId": "35b8dceb-44b5-4ba8-9bea-0f074473ed42"
      },
      "execution_count": 4,
      "outputs": [
        {
          "output_type": "stream",
          "name": "stdout",
          "text": [
            "Sparrow flies by flapping its wings.\n",
            "Penguins cannot fly. They swim.\n"
          ]
        }
      ]
    },
    {
      "cell_type": "markdown",
      "source": [
        "**5. Write a program to demonstrate encapsulation by creating a class BankAccount with private attributes balance and methods to deposit, withdraw, and check balance.**"
      ],
      "metadata": {
        "id": "kXNmPCgqhqSd"
      }
    },
    {
      "cell_type": "code",
      "source": [
        "class BankAccount:\n",
        "    def __init__(self, initial_balance=0):\n",
        "        # Private attribute\n",
        "        self.__balance = initial_balance\n",
        "\n",
        "    # Method to deposit money\n",
        "    def deposit(self, amount):\n",
        "        if amount > 0:\n",
        "            self.__balance += amount\n",
        "            print(f\"Deposited: {amount}\")\n",
        "        else:\n",
        "            print(\"Deposit amount must be positive.\")\n",
        "\n",
        "    # Method to withdraw money\n",
        "    def withdraw(self, amount):\n",
        "        if amount > 0 and amount <= self.__balance:\n",
        "            self.__balance -= amount\n",
        "            print(f\"Withdrawn: {amount}\")\n",
        "        elif amount > self.__balance:\n",
        "            print(\"Insufficient balance.\")\n",
        "        else:\n",
        "            print(\"Withdrawal amount must be positive.\")\n",
        "\n",
        "    # Method to check balance\n",
        "    def check_balance(self):\n",
        "        print(f\"Current balance: {self.__balance}\")\n",
        "\n",
        "# Create an instance of BankAccount\n",
        "account = BankAccount(1000)\n",
        "\n",
        "# Checking the balance\n",
        "account.check_balance()  # Output: Current balance: 1000\n",
        "\n",
        "# Deposit money\n",
        "account.deposit(500)  # Output: Deposited: 500\n",
        "account.check_balance()  # Output: Current balance: 1500\n",
        "\n",
        "# Withdraw money\n",
        "account.withdraw(200)  # Output: Withdrawn: 200\n",
        "account.check_balance()  # Output: Current balance: 1300\n",
        "\n",
        "# Try withdrawing more than the balance\n",
        "account.withdraw(1500)  # Output: Insufficient balance.\n",
        "\n",
        "# Try withdrawing a negative amount\n",
        "account.withdraw(-100)  # Output: Withdrawal amount must be positive.\n"
      ],
      "metadata": {
        "colab": {
          "base_uri": "https://localhost:8080/"
        },
        "id": "dMjI1ULQhuBV",
        "outputId": "047ac42e-5a34-4108-8d18-fdc1c8d368a8"
      },
      "execution_count": 5,
      "outputs": [
        {
          "output_type": "stream",
          "name": "stdout",
          "text": [
            "Current balance: 1000\n",
            "Deposited: 500\n",
            "Current balance: 1500\n",
            "Withdrawn: 200\n",
            "Current balance: 1300\n",
            "Insufficient balance.\n",
            "Withdrawal amount must be positive.\n"
          ]
        }
      ]
    },
    {
      "cell_type": "markdown",
      "source": [
        "**6. Demonstrate runtime polymorphism using a method play() in a base class Instrument. Derive classes Guitar and Piano that implement their own version of play().**"
      ],
      "metadata": {
        "id": "nb3Kxbz4hyLX"
      }
    },
    {
      "cell_type": "code",
      "source": [
        "# Base class Instrument\n",
        "class Instrument:\n",
        "    def play(self):\n",
        "        print(\"Playing an instrument\")\n",
        "\n",
        "# Derived class Guitar\n",
        "class Guitar(Instrument):\n",
        "    def play(self):\n",
        "        print(\"Strumming the guitar\")\n",
        "\n",
        "# Derived class Piano\n",
        "class Piano(Instrument):\n",
        "    def play(self):\n",
        "        print(\"Playing the piano\")\n",
        "\n",
        "# Function to demonstrate polymorphism\n",
        "def play_instrument(instrument):\n",
        "    instrument.play()\n",
        "\n",
        "# Creating instances of Guitar and Piano\n",
        "guitar = Guitar()\n",
        "piano = Piano()\n",
        "\n",
        "# Demonstrating runtime polymorphism\n",
        "play_instrument(guitar)  # Output: Strumming the guitar\n",
        "play_instrument(piano)   # Output: Playing the piano\n"
      ],
      "metadata": {
        "colab": {
          "base_uri": "https://localhost:8080/"
        },
        "id": "-2GiwVW0h1Ou",
        "outputId": "d50f248f-88f0-4338-ebd8-c012025a05b4"
      },
      "execution_count": 7,
      "outputs": [
        {
          "output_type": "stream",
          "name": "stdout",
          "text": [
            "Strumming the guitar\n",
            "Playing the piano\n"
          ]
        }
      ]
    },
    {
      "cell_type": "markdown",
      "source": [
        "**7. Create a class MathOperations with a class method add_numbers() to add two numbers and a static method subtract_numbers() to subtract two numbers.**"
      ],
      "metadata": {
        "id": "nomdWkO_iVz7"
      }
    },
    {
      "cell_type": "code",
      "source": [
        "class MathOperations:\n",
        "\n",
        "    # Class method to add two numbers\n",
        "    @classmethod\n",
        "    def add_numbers(cls, num1, num2):\n",
        "        return num1 + num2\n",
        "\n",
        "    # Static method to subtract two numbers\n",
        "    @staticmethod\n",
        "    def subtract_numbers(num1, num2):\n",
        "        return num1 - num2\n",
        "\n",
        "# Demonstrating class and static methods\n",
        "result_add = MathOperations.add_numbers(5, 3)\n",
        "result_subtract = MathOperations.subtract_numbers(5, 3)\n",
        "\n",
        "print(f\"Sum: {result_add}\")          # Output: Sum: 8\n",
        "print(f\"Difference: {result_subtract}\")  # Output: Difference: 2\n"
      ],
      "metadata": {
        "colab": {
          "base_uri": "https://localhost:8080/"
        },
        "id": "fbfUG4i7ia5M",
        "outputId": "a476bb25-24a3-4289-b1a4-4710515ed811"
      },
      "execution_count": 8,
      "outputs": [
        {
          "output_type": "stream",
          "name": "stdout",
          "text": [
            "Sum: 8\n",
            "Difference: 2\n"
          ]
        }
      ]
    },
    {
      "cell_type": "markdown",
      "source": [
        "**8. Implement a class Person with a class method to count the total number of persons created.**"
      ],
      "metadata": {
        "id": "T8Hedbhcif5q"
      }
    },
    {
      "cell_type": "code",
      "source": [
        "class Person:\n",
        "    # Class attribute to keep track of the number of persons created\n",
        "    total_persons = 0\n",
        "\n",
        "    def __init__(self, name, age):\n",
        "        self.name = name\n",
        "        self.age = age\n",
        "        # Increment the count of total persons when a new person is created\n",
        "        Person.total_persons += 1\n",
        "\n",
        "    # Class method to get the total number of persons created\n",
        "    @classmethod\n",
        "    def get_total_persons(cls):\n",
        "        return cls.total_persons\n",
        "\n",
        "# Creating instances of Person\n",
        "person1 = Person(\"Alice\", 30)\n",
        "person2 = Person(\"Bob\", 25)\n",
        "person3 = Person(\"Charlie\", 35)\n",
        "\n",
        "# Calling the class method to get the total number of persons\n",
        "print(f\"Total persons created: {Person.get_total_persons()}\")  # Output: Total persons created: 3\n"
      ],
      "metadata": {
        "colab": {
          "base_uri": "https://localhost:8080/"
        },
        "id": "oEN3oKtvijOY",
        "outputId": "b4e0aab8-bc5b-4103-b3b7-26f23c428991"
      },
      "execution_count": 9,
      "outputs": [
        {
          "output_type": "stream",
          "name": "stdout",
          "text": [
            "Total persons created: 3\n"
          ]
        }
      ]
    },
    {
      "cell_type": "markdown",
      "source": [
        "**9. Write a class Fraction with attributes numerator and denominator. Override the str method to display the fraction as \"numerator/denominator\".**"
      ],
      "metadata": {
        "id": "MgKiM-PzinOc"
      }
    },
    {
      "cell_type": "code",
      "source": [
        "class Fraction:\n",
        "    def __init__(self, numerator, denominator):\n",
        "        self.numerator = numerator\n",
        "        self.denominator = denominator\n",
        "\n",
        "    # Overriding the __str__ method to display the fraction in the form \"numerator/denominator\"\n",
        "    def __str__(self):\n",
        "        return f\"{self.numerator}/{self.denominator}\"\n",
        "\n",
        "# Creating instances of the Fraction class\n",
        "fraction1 = Fraction(3, 4)\n",
        "fraction2 = Fraction(5, 8)\n",
        "\n",
        "# Printing the fractions\n",
        "print(fraction1)  # Output: 3/4\n",
        "print(fraction2)  # Output: 5/8\n"
      ],
      "metadata": {
        "colab": {
          "base_uri": "https://localhost:8080/"
        },
        "id": "kZauYL5nirKr",
        "outputId": "b6769aed-16c3-484b-f597-17b215915ca3"
      },
      "execution_count": 10,
      "outputs": [
        {
          "output_type": "stream",
          "name": "stdout",
          "text": [
            "3/4\n",
            "5/8\n"
          ]
        }
      ]
    },
    {
      "cell_type": "markdown",
      "source": [
        "**10. Demonstrate operator overloading by creating a class Vector and overriding the add method to add two vectors.**"
      ],
      "metadata": {
        "id": "BEflxQIjiwAH"
      }
    },
    {
      "cell_type": "code",
      "source": [
        "class Vector:\n",
        "    def __init__(self, x, y):\n",
        "        self.x = x\n",
        "        self.y = y\n",
        "\n",
        "    # Overloading the + operator to add two vectors\n",
        "    def __add__(self, other):\n",
        "        # Adding corresponding components of the two vectors\n",
        "        return Vector(self.x + other.x, self.y + other.y)\n",
        "\n",
        "    # Method to display the vector\n",
        "    def __str__(self):\n",
        "        return f\"({self.x}, {self.y})\"\n",
        "\n",
        "# Creating instances of Vector\n",
        "vector1 = Vector(2, 3)\n",
        "vector2 = Vector(4, 5)\n",
        "\n",
        "# Adding two vectors using the overloaded + operator\n",
        "result = vector1 + vector2\n",
        "\n",
        "# Printing the result\n",
        "print(f\"Sum of vectors: {result}\")  # Output: Sum of vectors: (6, 8)\n"
      ],
      "metadata": {
        "colab": {
          "base_uri": "https://localhost:8080/"
        },
        "id": "duJSZ2jOiz2h",
        "outputId": "07db505e-5349-44cb-9c41-ed41a940fd36"
      },
      "execution_count": 11,
      "outputs": [
        {
          "output_type": "stream",
          "name": "stdout",
          "text": [
            "Sum of vectors: (6, 8)\n"
          ]
        }
      ]
    },
    {
      "cell_type": "markdown",
      "source": [
        "**11. Create a class Person with attributes name and age. Add a method greet() that prints \"Hello, my name is {name} and I am {age} years old.\"**"
      ],
      "metadata": {
        "id": "nCJHqNSmi3po"
      }
    },
    {
      "cell_type": "code",
      "source": [
        "class Person:\n",
        "    def __init__(self, name, age):\n",
        "        # Initializing attributes\n",
        "        self.name = name\n",
        "        self.age = age\n",
        "\n",
        "    # Method to greet and introduce the person\n",
        "    def greet(self):\n",
        "        print(f\"Hello, my name is {self.name} and I am {self.age} years old.\")\n",
        "\n",
        "# Creating an instance of Person\n",
        "person1 = Person(\"Alice\", 30)\n",
        "\n",
        "# Calling the greet method\n",
        "person1.greet()  # Output: Hello, my name is Alice and I am 30 years old.\n"
      ],
      "metadata": {
        "colab": {
          "base_uri": "https://localhost:8080/"
        },
        "id": "RQ7ZniB_i7wU",
        "outputId": "b2419180-3ef8-4f0d-b13b-d290f92209c1"
      },
      "execution_count": 12,
      "outputs": [
        {
          "output_type": "stream",
          "name": "stdout",
          "text": [
            "Hello, my name is Alice and I am 30 years old.\n"
          ]
        }
      ]
    },
    {
      "cell_type": "markdown",
      "source": [
        "**12. Implement a class Student with attributes name and grades. Create a method average_grade() to compute the average of the grades.**"
      ],
      "metadata": {
        "id": "Vj8Y-DkDi_g0"
      }
    },
    {
      "cell_type": "code",
      "source": [
        "class Student:\n",
        "    def __init__(self, name, grades):\n",
        "        # Initializing attributes\n",
        "        self.name = name\n",
        "        self.grades = grades  # List of grades\n",
        "\n",
        "    # Method to compute the average of grades\n",
        "    def average_grade(self):\n",
        "        if len(self.grades) > 0:\n",
        "            return sum(self.grades) / len(self.grades)\n",
        "        else:\n",
        "            return 0  # Return 0 if there are no grades\n",
        "\n",
        "# Creating an instance of Student\n",
        "student1 = Student(\"Alice\", [85, 90, 78, 92, 88])\n",
        "\n",
        "# Calling the average_grade method\n",
        "average = student1.average_grade()\n",
        "\n",
        "# Printing the result\n",
        "print(f\"{student1.name}'s average grade is: {average:.2f}\")  # Output: Alice's average grade is: 86.60\n"
      ],
      "metadata": {
        "colab": {
          "base_uri": "https://localhost:8080/"
        },
        "id": "l1aCNYMVjDAR",
        "outputId": "75b9d48c-8c4d-4a9c-a05b-e635a026a389"
      },
      "execution_count": 13,
      "outputs": [
        {
          "output_type": "stream",
          "name": "stdout",
          "text": [
            "Alice's average grade is: 86.60\n"
          ]
        }
      ]
    },
    {
      "cell_type": "markdown",
      "source": [
        "**13. Create a class Rectangle with methods set_dimensions() to set the dimensions and area() to calculate the area.**"
      ],
      "metadata": {
        "id": "8RloBlDdjGyH"
      }
    },
    {
      "cell_type": "code",
      "source": [
        "class Rectangle:\n",
        "    def __init__(self):\n",
        "        self.length = 0\n",
        "        self.width = 0\n",
        "\n",
        "    # Method to set the dimensions of the rectangle\n",
        "    def set_dimensions(self, length, width):\n",
        "        self.length = length\n",
        "        self.width = width\n",
        "\n",
        "    # Method to calculate the area of the rectangle\n",
        "    def area(self):\n",
        "        return self.length * self.width\n",
        "\n",
        "# Creating an instance of Rectangle\n",
        "rectangle = Rectangle()\n",
        "\n",
        "# Setting dimensions for the rectangle\n",
        "rectangle.set_dimensions(5, 3)\n",
        "\n",
        "# Calculating the area of the rectangle\n",
        "area = rectangle.area()\n",
        "\n",
        "# Printing the result\n",
        "print(f\"The area of the rectangle is: {area}\")  # Output: The area of the rectangle is: 15\n"
      ],
      "metadata": {
        "colab": {
          "base_uri": "https://localhost:8080/"
        },
        "id": "iZ7f4nckjKJ7",
        "outputId": "e357564c-b934-4c29-a4c3-fd3e227d6434"
      },
      "execution_count": 14,
      "outputs": [
        {
          "output_type": "stream",
          "name": "stdout",
          "text": [
            "The area of the rectangle is: 15\n"
          ]
        }
      ]
    },
    {
      "cell_type": "markdown",
      "source": [
        "**14. Create a class Employee with a method calculate_salary() that computes the salary based on hours worked and hourly rate. Create a derived class Manager that adds a bonus to the salary.**"
      ],
      "metadata": {
        "id": "9kvHgaYVjP-b"
      }
    },
    {
      "cell_type": "code",
      "source": [
        "class Employee:\n",
        "    def __init__(self, name, hours_worked, hourly_rate):\n",
        "        self.name = name\n",
        "        self.hours_worked = hours_worked\n",
        "        self.hourly_rate = hourly_rate\n",
        "\n",
        "    # Method to calculate salary\n",
        "    def calculate_salary(self):\n",
        "        return self.hours_worked * self.hourly_rate\n",
        "\n",
        "# Derived class Manager that adds a bonus\n",
        "class Manager(Employee):\n",
        "    def __init__(self, name, hours_worked, hourly_rate, bonus):\n",
        "        super().__init__(name, hours_worked, hourly_rate)\n",
        "        self.bonus = bonus\n",
        "\n",
        "    # Overriding calculate_salary to include bonus\n",
        "    def calculate_salary(self):\n",
        "        base_salary = super().calculate_salary()\n",
        "        return base_salary + self.bonus\n",
        "\n",
        "# Creating an Employee\n",
        "employee1 = Employee(\"John\", 40, 200)\n",
        "print(f\"{employee1.name}'s salary: ₹{employee1.calculate_salary()}\")  # Output: ₹8000\n",
        "\n",
        "# Creating a Manager\n",
        "manager1 = Manager(\"Alice\", 40, 200, 3000)\n",
        "print(f\"{manager1.name}'s salary: ₹{manager1.calculate_salary()}\")  # Output: ₹11000\n"
      ],
      "metadata": {
        "colab": {
          "base_uri": "https://localhost:8080/"
        },
        "id": "xWeCpDuhjTfR",
        "outputId": "25e39008-daa6-408a-ae44-9a002c48c95a"
      },
      "execution_count": 15,
      "outputs": [
        {
          "output_type": "stream",
          "name": "stdout",
          "text": [
            "John's salary: ₹8000\n",
            "Alice's salary: ₹11000\n"
          ]
        }
      ]
    },
    {
      "cell_type": "markdown",
      "source": [
        "**15. Create a class Product with attributes name, price, and quantity. Implement a method total_price() that calculates the total price of the product.**"
      ],
      "metadata": {
        "id": "Rs78LvXzjYdr"
      }
    },
    {
      "cell_type": "code",
      "source": [
        "class Product:\n",
        "    def __init__(self, name, price, quantity):\n",
        "        self.name = name\n",
        "        self.price = price\n",
        "        self.quantity = quantity\n",
        "\n",
        "    # Method to calculate total price\n",
        "    def total_price(self):\n",
        "        return self.price * self.quantity\n",
        "\n",
        "# Creating an instance of Product\n",
        "product1 = Product(\"Laptop\", 50000, 2)\n",
        "\n",
        "# Calculating and printing the total price\n",
        "print(f\"Total price for {product1.name}s: ₹{product1.total_price()}\")\n"
      ],
      "metadata": {
        "colab": {
          "base_uri": "https://localhost:8080/"
        },
        "id": "sazlLQhbjc8R",
        "outputId": "82501bdf-fafa-4d49-f375-685e2a123a40"
      },
      "execution_count": 16,
      "outputs": [
        {
          "output_type": "stream",
          "name": "stdout",
          "text": [
            "Total price for Laptops: ₹100000\n"
          ]
        }
      ]
    },
    {
      "cell_type": "markdown",
      "source": [
        "**16. Create a class Animal with an abstract method sound(). Create two derived classes Cow and Sheep that implement the sound() method.**"
      ],
      "metadata": {
        "id": "rF39HQWrjgxN"
      }
    },
    {
      "cell_type": "code",
      "source": [
        "from abc import ABC, abstractmethod\n",
        "\n",
        "# Abstract base class\n",
        "class Animal(ABC):\n",
        "    @abstractmethod\n",
        "    def sound(self):\n",
        "        pass\n",
        "\n",
        "# Derived class Cow\n",
        "class Cow(Animal):\n",
        "    def sound(self):\n",
        "        return \"Moo\"\n",
        "\n",
        "# Derived class Sheep\n",
        "class Sheep(Animal):\n",
        "    def sound(self):\n",
        "        return \"Baa\"\n",
        "\n",
        "# Creating instances and calling the sound method\n",
        "cow = Cow()\n",
        "sheep = Sheep()\n",
        "\n",
        "print(f\"Cow says: {cow.sound()}\")     # Output: Moo\n",
        "print(f\"Sheep says: {sheep.sound()}\") # Output: Baa\n"
      ],
      "metadata": {
        "colab": {
          "base_uri": "https://localhost:8080/"
        },
        "id": "_E4714OTjjlF",
        "outputId": "d1c94fdb-6a61-48a3-c2b7-dc9650f6a4f3"
      },
      "execution_count": 17,
      "outputs": [
        {
          "output_type": "stream",
          "name": "stdout",
          "text": [
            "Cow says: Moo\n",
            "Sheep says: Baa\n"
          ]
        }
      ]
    },
    {
      "cell_type": "markdown",
      "source": [
        "**17. Create a class Book with attributes title, author, and year_published. Add a method get_book_info() that returns a formatted string with the book's details.**"
      ],
      "metadata": {
        "id": "9eoicKIyjnL_"
      }
    },
    {
      "cell_type": "code",
      "source": [
        "class Book:\n",
        "    def __init__(self, title, author, year_published):\n",
        "        self.title = title\n",
        "        self.author = author\n",
        "        self.year_published = year_published\n",
        "\n",
        "    # Method to return formatted book information\n",
        "    def get_book_info(self):\n",
        "        return f\"'{self.title}' by {self.author}, published in {self.year_published}\"\n",
        "\n",
        "# Creating an instance of Book\n",
        "book1 = Book(\"1984\", \"George Orwell\", 1949)\n",
        "\n",
        "# Getting and printing book information\n",
        "print(book1.get_book_info())\n"
      ],
      "metadata": {
        "colab": {
          "base_uri": "https://localhost:8080/"
        },
        "id": "FFxiGCI9jrbl",
        "outputId": "44c80ffe-89ea-45e5-96fb-42ea992e74b6"
      },
      "execution_count": 18,
      "outputs": [
        {
          "output_type": "stream",
          "name": "stdout",
          "text": [
            "'1984' by George Orwell, published in 1949\n"
          ]
        }
      ]
    },
    {
      "cell_type": "markdown",
      "source": [
        "**18. Create a class House with attributes address and price. Create a derived class Mansion that adds an attribute number_of_rooms.**"
      ],
      "metadata": {
        "id": "IKhQYm4Xjt3G"
      }
    },
    {
      "cell_type": "code",
      "source": [
        "# Base class\n",
        "class House:\n",
        "    def __init__(self, address, price):\n",
        "        self.address = address\n",
        "        self.price = price\n",
        "\n",
        "# Derived class\n",
        "class Mansion(House):\n",
        "    def __init__(self, address, price, number_of_rooms):\n",
        "        super().__init__(address, price)\n",
        "        self.number_of_rooms = number_of_rooms\n",
        "\n",
        "# Creating an instance of Mansion\n",
        "mansion1 = Mansion(\"123 Luxury Lane\", 50000000, 10)\n",
        "\n",
        "# Printing mansion details\n",
        "print(f\"Address: {mansion1.address}\")\n",
        "print(f\"Price: ₹{mansion1.price}\")\n",
        "print(f\"Number of rooms: {mansion1.number_of_rooms}\")\n"
      ],
      "metadata": {
        "colab": {
          "base_uri": "https://localhost:8080/"
        },
        "id": "36z4ihMjjwd6",
        "outputId": "8af63bd8-97f2-4d19-edfe-738ce52c02b7"
      },
      "execution_count": 19,
      "outputs": [
        {
          "output_type": "stream",
          "name": "stdout",
          "text": [
            "Address: 123 Luxury Lane\n",
            "Price: ₹50000000\n",
            "Number of rooms: 10\n"
          ]
        }
      ]
    }
  ]
}